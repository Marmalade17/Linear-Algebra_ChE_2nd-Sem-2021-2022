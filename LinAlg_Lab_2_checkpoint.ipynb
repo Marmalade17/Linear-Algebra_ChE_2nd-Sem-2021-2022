{
  "nbformat": 4,
  "nbformat_minor": 0,
  "metadata": {
    "colab": {
      "name": "LinAlg Lab 2-checkpoint.ipynb",
      "provenance": [],
      "authorship_tag": "ABX9TyOoFrd3kmLTGaEhDy/weR+N",
      "include_colab_link": true
    },
    "kernelspec": {
      "name": "python3",
      "display_name": "Python 3"
    },
    "language_info": {
      "name": "python"
    }
  },
  "cells": [
    {
      "cell_type": "markdown",
      "metadata": {
        "id": "view-in-github",
        "colab_type": "text"
      },
      "source": [
        "<a href=\"https://colab.research.google.com/github/Marmalade17/Linear-Algebra_ChE_2nd-Sem-2021-2022/blob/main/LinAlg_Lab_2_checkpoint.ipynb\" target=\"_parent\"><img src=\"https://colab.research.google.com/assets/colab-badge.svg\" alt=\"Open In Colab\"/></a>"
      ]
    },
    {
      "cell_type": "markdown",
      "source": [
        "# Lab 2 - Plotting Vector using NumPy and MatPlotLib"
      ],
      "metadata": {
        "id": "EYdNgrjkjWn-"
      }
    },
    {
      "cell_type": "markdown",
      "source": [
        "In this laboratory we will be discussing the basics of numerical and scientific programming by working with Vectors using NumPy and MatPlotLib."
      ],
      "metadata": {
        "id": "CjPjB2uvjZy2"
      }
    },
    {
      "cell_type": "markdown",
      "source": [
        "### Objectives\n",
        "At the end of this activity you will be able to:\n",
        "1. Be familiar with the libraries in Python for numerical and scientific programming.\n",
        "2. Visualize vectors through Python programming.\n",
        "3. Perform simple vector operations through code."
      ],
      "metadata": {
        "id": "OOSbGBRsjd0C"
      }
    },
    {
      "cell_type": "markdown",
      "source": [
        "##Discussion"
      ],
      "metadata": {
        "id": "xIjUK_w4jlav"
      }
    },
    {
      "cell_type": "markdown",
      "source": [
        "###NumPy"
      ],
      "metadata": {
        "id": "8adcLBN7jpvn"
      }
    },
    {
      "cell_type": "markdown",
      "source": [
        "NumPy or Numerical Python, is mainly used for matrix and vector operations. It is capable of declaring computing and representing matrices. Most Python scientific programming libraries uses NumPy as the basic code.\n",
        "\n",
        "Scalars\n",
        "Represent magnitude or a single value\n",
        "\n",
        "Vectors\n",
        "Represent magnitude with directors\n",
        "\n"
      ],
      "metadata": {
        "id": "BecijkhGjyu3"
      }
    },
    {
      "cell_type": "markdown",
      "source": [
        "####Representing Vectors"
      ],
      "metadata": {
        "id": "wahdbN_Xj3-A"
      }
    },
    {
      "cell_type": "markdown",
      "source": [
        "Now that you know how to represent vectors using their component and matrix form we can now hard-code them in Python. Let's say that you have the vectors:"
      ],
      "metadata": {
        "id": "SqWp3rrOj-Ig"
      }
    },
    {
      "cell_type": "markdown",
      "source": [
        "$$ A = 3\\hat{x} + 2\\hat{y} \\\\\n",
        "B = 1\\hat{x} - 4\\hat{y}\\\\\n",
        "C = 3ax + 2ay - 1az \\\\\n",
        "D = 1\\hat{i} - 1\\hat{j} + 2\\hat{k}$$"
      ],
      "metadata": {
        "id": "O20ImzYQkNsc"
      }
    },
    {
      "cell_type": "markdown",
      "source": [
        "In which it's matrix equivalent is:"
      ],
      "metadata": {
        "id": "RbVmLKyYkQBS"
      }
    },
    {
      "cell_type": "markdown",
      "source": [
        "$$ A = \\begin{bmatrix} 4 \\\\ 3\\end{bmatrix} , B = \\begin{bmatrix} 2 \\\\ -5\\end{bmatrix} , C = \\begin{bmatrix} 4 \\\\ 3 \\\\  -2 \\end{bmatrix}, D = \\begin{bmatrix} 2 \\\\ -2 \\\\ 3\\end{bmatrix}\n",
        "$$\n",
        "$$ A = \\begin{bmatrix} 4 & 3\\end{bmatrix} , B = \\begin{bmatrix} 2 & -5\\end{bmatrix} , C = \\begin{bmatrix} 4 & 3 & -2\\end{bmatrix} , D = \\begin{bmatrix} 2 & -2 & 3\\end{bmatrix} \n",
        "$$"
      ],
      "metadata": {
        "id": "rqWk0dYikVnp"
      }
    },
    {
      "cell_type": "markdown",
      "source": [
        "We can then start doing numpy code with this by:"
      ],
      "metadata": {
        "id": "aJ0G4g6GkZc9"
      }
    },
    {
      "cell_type": "code",
      "source": [
        "## Importing necessary libraries\n",
        "import numpy as np ## 'np' here is short-hand name of the library (numpy) or a nickname."
      ],
      "metadata": {
        "id": "baW6JolzkbNW"
      },
      "execution_count": 1,
      "outputs": []
    },
    {
      "cell_type": "code",
      "source": [
        "L = np.array([3, 2])\n",
        "M = np.array([1, -6])\n",
        "N = np.array([\n",
        "              [3],\n",
        "              [2],\n",
        "              [-3]\n",
        "])\n",
        "O = np.array ([[2],\n",
        "              [-3],\n",
        "              [2]])\n",
        "print('Vector L is ', L)\n",
        "print('Vector M is ', M)\n",
        "print('Vector N is ', N)\n",
        "print('Vector O is ', O)"
      ],
      "metadata": {
        "colab": {
          "base_uri": "https://localhost:8080/"
        },
        "id": "RKHB7Oe7kdei",
        "outputId": "74beb3d5-44ed-4069-a335-c1f571de626e"
      },
      "execution_count": 20,
      "outputs": [
        {
          "output_type": "stream",
          "name": "stdout",
          "text": [
            "Vector L is  [3 2]\n",
            "Vector M is  [ 1 -6]\n",
            "Vector N is  [[ 3]\n",
            " [ 2]\n",
            " [-3]]\n",
            "Vector O is  [[ 2]\n",
            " [-3]\n",
            " [ 2]]\n"
          ]
        }
      ]
    },
    {
      "cell_type": "markdown",
      "source": [
        "#### Describing vectors in NumPy"
      ],
      "metadata": {
        "id": "lNij76BCkgsB"
      }
    },
    {
      "cell_type": "markdown",
      "source": [
        "Describing vectors is very important if we want to perform basic to advanced operations with them. The fundamental ways in describing vectors are knowing their shape, size and dimensions."
      ],
      "metadata": {
        "id": "xxWYjoUXkigi"
      }
    },
    {
      "cell_type": "code",
      "source": [
        "### Checking shapes\n",
        "### Shapes tells us how many elements are there on each row and column\n",
        "\n",
        "A.shape\n",
        "H = np.array([2, 1, 3, 6, -1.3, 1])\n",
        "H.shape\n",
        "C.shape"
      ],
      "metadata": {
        "colab": {
          "base_uri": "https://localhost:8080/"
        },
        "id": "rFAd_HiUkktI",
        "outputId": "7597e761-0ead-408e-abc4-398b6aaaf411"
      },
      "execution_count": 21,
      "outputs": [
        {
          "output_type": "execute_result",
          "data": {
            "text/plain": [
              "(3, 1)"
            ]
          },
          "metadata": {},
          "execution_count": 21
        }
      ]
    },
    {
      "cell_type": "code",
      "source": [
        "### Checking size\n",
        "### Array/Vector sizes tells us many total number of elements are there in the vector\n",
        "\n",
        "D.size"
      ],
      "metadata": {
        "colab": {
          "base_uri": "https://localhost:8080/"
        },
        "id": "et4gdxhdkmvt",
        "outputId": "95b3f1fc-fc44-4507-da80-f599e2e893fa"
      },
      "execution_count": 22,
      "outputs": [
        {
          "output_type": "execute_result",
          "data": {
            "text/plain": [
              "3"
            ]
          },
          "metadata": {},
          "execution_count": 22
        }
      ]
    },
    {
      "cell_type": "code",
      "source": [
        "### Checking dimensions\n",
        "### The dimensions or rank of a vector tells us how many dimensions are there for the vector.\n",
        "\n",
        "D.ndim"
      ],
      "metadata": {
        "colab": {
          "base_uri": "https://localhost:8080/"
        },
        "id": "fvQHBA4dko7J",
        "outputId": "aea40bc1-2ae0-4314-9874-93c0e9069298"
      },
      "execution_count": 23,
      "outputs": [
        {
          "output_type": "execute_result",
          "data": {
            "text/plain": [
              "2"
            ]
          },
          "metadata": {},
          "execution_count": 23
        }
      ]
    },
    {
      "cell_type": "markdown",
      "source": [
        "Great! Now let's try to explore in performing operations with these vectors."
      ],
      "metadata": {
        "id": "QQpquwCYkrlx"
      }
    },
    {
      "cell_type": "markdown",
      "source": [
        "#### *Addition* "
      ],
      "metadata": {
        "id": "7TUJjSm8kug8"
      }
    },
    {
      "cell_type": "markdown",
      "source": [
        "The addition rule is simple, the we just need to add the elements of the matrices according to their index. So in this case if we add vector $A$ and vector $B$ we will have a resulting vector:\n",
        "\n",
        "> Indented block\n",
        "\n"
      ],
      "metadata": {
        "id": "x5F1nLSLkx84"
      }
    },
    {
      "cell_type": "markdown",
      "source": [
        "$$J = 6\\hat{x}-2\\hat{y} \\\\ \\\\or \\\\ \\\\ J = \\begin{bmatrix} 6 \\\\ -2\\end{bmatrix} $$"
      ],
      "metadata": {
        "id": "bYnoDXD_k8SQ"
      }
    },
    {
      "cell_type": "markdown",
      "source": [
        "So let's try to do that in NumPy in several number of ways:"
      ],
      "metadata": {
        "id": "bdzbG3dqk_ot"
      }
    },
    {
      "cell_type": "code",
      "source": [
        "J = np.add(L, M) ## this is the functional method usisng the numpy library\n",
        "K = np.add(N, O)\n"
      ],
      "metadata": {
        "id": "PnJ9o5DzlBnc"
      },
      "execution_count": 24,
      "outputs": []
    },
    {
      "cell_type": "code",
      "source": [
        "J = L + M   ## this is the explicit method, since Python does a value-reference so it can \n",
        "            ## know that these variables would need to do array operations.\n",
        "J"
      ],
      "metadata": {
        "colab": {
          "base_uri": "https://localhost:8080/"
        },
        "id": "5I4nahp4lEH1",
        "outputId": "51e892df-5062-4502-9267-f4e7a3ebc69e"
      },
      "execution_count": 25,
      "outputs": [
        {
          "output_type": "execute_result",
          "data": {
            "text/plain": [
              "array([ 4, -4])"
            ]
          },
          "metadata": {},
          "execution_count": 25
        }
      ]
    },
    {
      "cell_type": "code",
      "source": [
        "pos1 = np.array([1,1,1])\n",
        "pos2 = np.array([1,2,4])\n",
        "pos3 = np.array([0,4,-1])\n",
        "pos4 = np.array([6,-2,2])\n",
        "#J = pos1 + pos2 + pos3 + pos4\n",
        "#J = np.multiply(pos3, pos4)\n",
        "J = pos3 / pos4\n",
        "J"
      ],
      "metadata": {
        "colab": {
          "base_uri": "https://localhost:8080/"
        },
        "id": "FLSvyUL6lG8h",
        "outputId": "74834091-b782-4123-9e0f-af5fb47d4823"
      },
      "execution_count": 26,
      "outputs": [
        {
          "output_type": "execute_result",
          "data": {
            "text/plain": [
              "array([ 0. , -2. , -0.5])"
            ]
          },
          "metadata": {},
          "execution_count": 26
        }
      ]
    },
    {
      "cell_type": "markdown",
      "source": [
        "##### Try for yourself!"
      ],
      "metadata": {
        "id": "Gnr5UDFIlNnC"
      }
    },
    {
      "cell_type": "markdown",
      "source": [
        "Try to implement subtraction, multiplication, and division with vectors $A$ and $B$!"
      ],
      "metadata": {
        "id": "Q9kthMxUlSe4"
      }
    },
    {
      "cell_type": "code",
      "source": [
        "### Try out you code here! \n",
        "\n"
      ],
      "metadata": {
        "id": "QvPPm5lwlU7h"
      },
      "execution_count": 9,
      "outputs": []
    },
    {
      "cell_type": "markdown",
      "source": [
        "### Scaling"
      ],
      "metadata": {
        "id": "j1cu8q5tlXUB"
      }
    },
    {
      "cell_type": "markdown",
      "source": [
        "Scaling or scalar multiplication takes a scalar value and performs multiplication with a vector. Let's take the example below:"
      ],
      "metadata": {
        "id": "pt6q8Gi3lZxJ"
      }
    },
    {
      "cell_type": "markdown",
      "source": [
        ":$$S = 5 \\cdot A$$"
      ],
      "metadata": {
        "id": "cDBrtVQ9lc8x"
      }
    },
    {
      "cell_type": "markdown",
      "source": [
        "We can do this in numpy through:"
      ],
      "metadata": {
        "id": "hTOckUXelhNJ"
      }
    },
    {
      "cell_type": "code",
      "source": [
        "#S = 7 * L\n",
        "S = np.multiply(5,L)\n",
        "S"
      ],
      "metadata": {
        "colab": {
          "base_uri": "https://localhost:8080/"
        },
        "id": "oGQ-1ImPljux",
        "outputId": "8f82f7ab-3165-4021-d058-b1fc80e319b4"
      },
      "execution_count": 28,
      "outputs": [
        {
          "output_type": "execute_result",
          "data": {
            "text/plain": [
              "array([15, 10])"
            ]
          },
          "metadata": {},
          "execution_count": 28
        }
      ]
    },
    {
      "cell_type": "markdown",
      "source": [
        "*`Try`* to implement scaling with two vectors."
      ],
      "metadata": {
        "id": "dVDPeUyRlmWK"
      }
    },
    {
      "cell_type": "markdown",
      "source": [
        "### MatPlotLib"
      ],
      "metadata": {
        "id": "zeYwP1eHlqEC"
      }
    },
    {
      "cell_type": "markdown",
      "source": [
        "MatPlotLib or MATLab Plotting library is Python's take on MATLabs plotting feature. MatPlotLib can be used vastly from graping values to visualizing several dimensions of data."
      ],
      "metadata": {
        "id": "Jh-DpMZDls7D"
      }
    },
    {
      "cell_type": "markdown",
      "source": [
        "#### Visualizing Data"
      ],
      "metadata": {
        "id": "FCBCfKQ0lvpM"
      }
    },
    {
      "cell_type": "markdown",
      "source": [
        "It's not enough just solving these vectors so might need to visualize them. So we'll use MatPlotLib for that. We'll need to import it first."
      ],
      "metadata": {
        "id": "za9kjEUrlxtJ"
      }
    },
    {
      "cell_type": "code",
      "source": [
        "import matplotlib.pyplot as plt\n",
        "import matplotlib\n",
        "%matplotlib inline"
      ],
      "metadata": {
        "id": "a2XnFoWFlzvR"
      },
      "execution_count": 29,
      "outputs": []
    },
    {
      "cell_type": "code",
      "source": [
        "X = [0, -2]\n",
        "Y = [4, -2]\n",
        "#ax = plt.axes(projection='3d')\n",
        "plt.scatter(X[0], X[1], label='X', c='Green')\n",
        "plt.scatter(Y[0], Y[1], label='Y', c='Black')\n",
        "plt.grid()\n",
        "plt.legend()\n",
        "plt.show()"
      ],
      "metadata": {
        "colab": {
          "base_uri": "https://localhost:8080/",
          "height": 265
        },
        "id": "CJ17GQzIl18p",
        "outputId": "3e706c35-6f9e-45c3-8a5b-15106e2bc53b"
      },
      "execution_count": 39,
      "outputs": [
        {
          "output_type": "display_data",
          "data": {
            "text/plain": [
              "<Figure size 432x288 with 1 Axes>"
            ],
            "image/png": "[encoded data removed]"
          },
          "metadata": {
            "needs_background": "light"
          }
        }
      ]
    },
    {
      "cell_type": "code",
      "source": [
        "A = np.array([2, 0])\n",
        "B = np.array([2, 6])\n",
        "R = A + B\n",
        "Magnitude = np.sqrt(np.sum(R**2))\n",
        "plt.title(\"Resultant Vector\\nMagnitude:{}\" .format(Magnitude))\n",
        "plt.xlim(-6, 4)\n",
        "plt.ylim(-6, 4)\n",
        "plt.quiver(0, 0, A[0], A[1], angles='xy', scale_units='xy', scale=1, color='Blue')\n",
        "plt.quiver(A[0], A[1], B[0], B[1], angles='xy', scale_units='xy', scale=1, color='Red')\n",
        "J = X + Y\n",
        "plt.quiver(0, 0, R[0], R[1], angles='xy', scale_units='xy', scale=1, color='Magenta')\n",
        "plt.grid()\n",
        "plt.show()\n",
        "print(J)\n",
        "print(Magnitude)\n",
        "Slope = R[1]/R[0]\n",
        "print(Slope)\n",
        "Angle = (np.arctan(Slope))*(180/np.pi)\n",
        "print(Angle)\n"
      ],
      "metadata": {
        "colab": {
          "base_uri": "https://localhost:8080/",
          "height": 365
        },
        "id": "c3IrpCpxl4ed",
        "outputId": "a61a886d-e2ff-4e2b-d9b0-e86b300578ba"
      },
      "execution_count": 49,
      "outputs": [
        {
          "output_type": "display_data",
          "data": {
            "text/plain": [
              "<Figure size 432x288 with 1 Axes>"
            ],
            "image/png": "[encoded data removed]"
          },
          "metadata": {
            "needs_background": "light"
          }
        },
        {
          "output_type": "stream",
          "name": "stdout",
          "text": [
            "[0, -2, 4, -2]\n",
            "7.211102550927978\n",
            "1.5\n",
            "56.309932474020215\n"
          ]
        }
      ]
    },
    {
      "cell_type": "code",
      "source": [
        "n = A.shape[0]\n",
        "plt.xlim(-10, 10)\n",
        "plt.ylim(-10, 10)\n",
        "plt.quiver(0,0, A[0], A[1], angles='xy', scale_units='xy',scale=1)\n",
        "plt.quiver(A[0],A[1], B[0], B[1], angles='xy', scale_units='xy',scale=1)\n",
        "plt.quiver(0,0, R[0], R[1], angles='xy', scale_units='xy',scale=1)\n",
        "plt.show()"
      ],
      "metadata": {
        "colab": {
          "base_uri": "https://localhost:8080/",
          "height": 269
        },
        "id": "XDmAePtgmPrd",
        "outputId": "a9c63982-9db8-4b78-d107-74ea4df6ff88"
      },
      "execution_count": 52,
      "outputs": [
        {
          "output_type": "display_data",
          "data": {
            "text/plain": [
              "<Figure size 432x288 with 1 Axes>"
            ],
            "image/png": "[encoded data removed]"
          },
          "metadata": {
            "needs_background": "light"
          }
        }
      ]
    },
    {
      "cell_type": "markdown",
      "source": [
        "Try plotting Three Vectors and show the Resultant Vector as a result.\n",
        "Use Head to Tail Method."
      ],
      "metadata": {
        "id": "0u6f7D9KmSl9"
      }
    }
  ]
}
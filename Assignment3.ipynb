{
  "nbformat": 4,
  "nbformat_minor": 0,
  "metadata": {
    "colab": {
      "name": "Assignment4.ipynb",
      "provenance": [],
      "authorship_tag": "ABX9TyMwDuCvGEa88/SSDLGRSqVT",
      "include_colab_link": true
    },
    "kernelspec": {
      "name": "python3",
      "display_name": "Python 3"
    },
    "language_info": {
      "name": "python"
    }
  },
  "cells": [
    {
      "cell_type": "markdown",
      "metadata": {
        "id": "view-in-github",
        "colab_type": "text"
      },
      "source": [
        "<a href=\"https://colab.research.google.com/github/Marmalade17/Linear-Algebra_ChE_2nd-Sem-2021-2022/blob/main/Assignment3.ipynb\" target=\"_parent\"><img src=\"https://colab.research.google.com/assets/colab-badge.svg\" alt=\"Open In Colab\"/></a>"
      ]
    },
    {
      "cell_type": "markdown",
      "source": [
        "# Linear Algebra for ChE\n",
        "## Assignment 3: Matrices\n"
      ],
      "metadata": {
        "id": "b9wLByzoNI1k"
      }
    },
    {
      "cell_type": "markdown",
      "source": [
        "###Now that you have a basic understanding of Python, we'll try to explore into larger dimensions."
      ],
      "metadata": {
        "id": "qKp5XVLtNZ5B"
      }
    },
    {
      "cell_type": "markdown",
      "source": [
        "### Objectives\n",
        "You will be able to do the following at the end of this activity:\n",
        "1. Understand matrices and their relationship to linear equations.\n",
        "2. Carry out basic matrix operations.\n",
        "3. Python would be used to program and translate matrix equations and operations."
      ],
      "metadata": {
        "id": "5ItpIX2zMkS1"
      }
    },
    {
      "cell_type": "markdown",
      "source": [
        "#Discussion"
      ],
      "metadata": {
        "id": "iP4InjD6zQdl"
      }
    },
    {
      "cell_type": "code",
      "source": [
        "import numpy as np\n",
        "import matplotlib.pyplot as plt\n",
        "import scipy.linalg as la\n",
        "%matplotlib inline"
      ],
      "metadata": {
        "id": "T6upGg5qzVGc"
      },
      "execution_count": null,
      "outputs": []
    },
    {
      "cell_type": "markdown",
      "source": [
        "#Matrices"
      ],
      "metadata": {
        "id": "Ae6xzK6uOOlz"
      }
    },
    {
      "cell_type": "markdown",
      "source": [
        "A Python matrix is a two-dimensional rectangular array of data with rows and columns. A matrix's data can be numbers, strings, equations, symbols, and so on. Matrix is a type of data structure that can be utilized in mathematical and scientific operations."
      ],
      "metadata": {
        "id": "IlRs6eHZ0Ulk"
      }
    },
    {
      "cell_type": "markdown",
      "source": [
        "Let's say for example you have A and B as system of equation.\n",
        "\n"
      ],
      "metadata": {
        "id": "Xu_69Ek-wPTy"
      }
    },
    {
      "cell_type": "markdown",
      "source": [
        "$$\n",
        "A = \\left\\{\n",
        "    \\begin{array}\\\n",
        "        L + M \\\\ \n",
        "        4L - 10M\n",
        "    \\end{array}\n",
        "\\right. \\\\\n",
        "B = \\left\\{\n",
        "    \\begin{array}\\\n",
        "        L+M+N \\\\ \n",
        "        3L -2M -N \\\\\n",
        "        -L + 4M +2N\n",
        "    \\end{array}\n",
        "\\right. \\\\\n",
        "C = \\left\\{\n",
        "   \\begin{array}\\\n",
        "        w-2x+3y-4z \\\\\n",
        "        3w- x -2y +z \\\\\n",
        "        2w -x + 3y - 2z\n",
        "      \\end{array}\n",
        "\\right. $$"
      ],
      "metadata": {
        "id": "DaIrFaowOL3C"
      }
    },
    {
      "cell_type": "markdown",
      "source": [
        "We can see that A is a two-parameter system comprising two equations. whereas B is a system of three equations with three parameters. They can be represented as matrices as follows:"
      ],
      "metadata": {
        "id": "8c9Tkb3-wrM6"
      }
    },
    {
      "cell_type": "markdown",
      "source": [
        "$$\n",
        "A=\\begin{bmatrix} 3 & 3 \\\\ 6 & {-10}\\end{bmatrix} \\\\\n",
        "B=\\begin{bmatrix} 3 & 3 & 3 \\\\ 5 & -4 & -3 \\\\ -3 & 6 & 4\\end{bmatrix}\\\\\n",
        "C = \\begin{bmatrix} 3& -4 & 5 & -6 \\\\ 5 & -3 & -4 & 3 \\\\ 4 & -3 & 5 & -4\\end{bmatrix}\n",
        "$$"
      ],
      "metadata": {
        "id": "yzOYL1z4Odwb"
      }
    },
    {
      "cell_type": "markdown",
      "source": [
        "Assuming you've already discussed the fundamental representation of matrices, as well as their kinds and operations. We'll do them in Python from here on out."
      ],
      "metadata": {
        "id": "Mj5k9NcYPRP0"
      }
    },
    {
      "cell_type": "markdown",
      "source": [
        "##Declaring Matrices"
      ],
      "metadata": {
        "id": "0JglRGlIPll9"
      }
    },
    {
      "cell_type": "markdown",
      "source": [
        "We'll represent a system of linear equations as a matrix, like we did in our previous laboratory exercise. The entities or numbers in matrices are referred to as matrix elements. These items are grouped and ordered in rows and columns, which create the matrix's list/array-like structure. And, like arrays, their elements are indexed based on their position in relation to their rows and columns."
      ],
      "metadata": {
        "id": "o6R8mdYdPopp"
      }
    },
    {
      "cell_type": "markdown",
      "source": [
        "$$A=\\begin{bmatrix}\n",
        "a_{(0,0)}&a_{(0,1)}&\\dots&a_{(0,j-1)}\\\\\n",
        "a_{(1,0)}&a_{(1,1)}&\\dots&a_{(1,j-1)}\\\\\n",
        "\\vdots&\\vdots&\\ddots&\\vdots&\\\\\n",
        "a_{(i-1,0)}&a_{(i-1,1)}&\\dots&a_{(i-1,j-1)}\n",
        "\\end{bmatrix}\n",
        "$$\n"
      ],
      "metadata": {
        "id": "k8B4JmzJQRcV"
      }
    },
    {
      "cell_type": "markdown",
      "source": [
        "We've already covered some of the many types of matrices as vectors, but we'll go over them again in this laboratory activity. We'll use the shape, dimension, and size attributes you already know how to describe vectors with to examine these matrices."
      ],
      "metadata": {
        "id": "4IpjeYjW14rh"
      }
    },
    {
      "cell_type": "code",
      "source": [
        "def describe_mat(matrix):\n",
        "    print(f'Matrix:\\n{matrix}\\n\\nShape:\\t{matrix.shape}\\nRank:\\t{matrix.ndim}\\n')"
      ],
      "metadata": {
        "id": "w7UBrh1FQVHA"
      },
      "execution_count": null,
      "outputs": []
    },
    {
      "cell_type": "code",
      "source": [
        "## Declaring a 2 x 2 matrix\n",
        "L = np.array([\n",
        "        [3, 4],\n",
        "        [5, 3]\n",
        "])\n",
        "describe_mat(L)"
      ],
      "metadata": {
        "colab": {
          "base_uri": "https://localhost:8080/"
        },
        "id": "8vwe2IrGQtJt",
        "outputId": "9d18222c-f27b-4ab5-eb35-32b2cfe493f2"
      },
      "execution_count": null,
      "outputs": [
        {
          "output_type": "stream",
          "name": "stdout",
          "text": [
            "Matrix:\n",
            "[[3 4]\n",
            " [5 3]]\n",
            "\n",
            "Shape:\t(2, 2)\n",
            "Rank:\t2\n",
            "\n"
          ]
        }
      ]
    },
    {
      "cell_type": "code",
      "source": [
        "M = np.array([\n",
        "    [14,18,15],\n",
        "    [34,14,46]\n",
        "])\n",
        "describe_mat(M)\n"
      ],
      "metadata": {
        "id": "q7gRPHskzvT7",
        "outputId": "ab924874-d0a2-4bc0-f7fe-ca09df56ec27",
        "colab": {
          "base_uri": "https://localhost:8080/"
        }
      },
      "execution_count": null,
      "outputs": [
        {
          "output_type": "stream",
          "name": "stdout",
          "text": [
            "Matrix:\n",
            "[[14 18 15]\n",
            " [34 14 46]]\n",
            "\n",
            "Shape:\t(2, 3)\n",
            "Rank:\t2\n",
            "\n"
          ]
        }
      ]
    },
    {
      "cell_type": "code",
      "source": [
        "## Declaring a 3 x 2.\n",
        "N = np.array([\n",
        "    [10, 4],\n",
        "    [7, 6],\n",
        "    [3, 3]\n",
        "])\n",
        "describe_mat(N)\n"
      ],
      "metadata": {
        "colab": {
          "base_uri": "https://localhost:8080/"
        },
        "id": "XKRRfgqHSVOC",
        "outputId": "1f04f1c7-f86b-4123-8f42-9a5ebb35d5fd"
      },
      "execution_count": null,
      "outputs": [
        {
          "output_type": "stream",
          "name": "stdout",
          "text": [
            "Matrix:\n",
            "[[10  4]\n",
            " [ 7  6]\n",
            " [ 3  3]]\n",
            "\n",
            "Shape:\t(3, 2)\n",
            "Rank:\t2\n",
            "\n"
          ]
        }
      ]
    },
    {
      "cell_type": "code",
      "source": [
        "O = np.array([1,2,3,4])\n",
        "describe_mat(O)\n"
      ],
      "metadata": {
        "colab": {
          "base_uri": "https://localhost:8080/"
        },
        "id": "sGZrR60YSjeg",
        "outputId": "6777147e-c1fb-4c16-cc01-7a3210cf562b"
      },
      "execution_count": null,
      "outputs": [
        {
          "output_type": "stream",
          "name": "stdout",
          "text": [
            "Matrix:\n",
            "[1 2 3 4]\n",
            "\n",
            "Shape:\t(4,)\n",
            "Rank:\t1\n",
            "\n"
          ]
        }
      ]
    },
    {
      "cell_type": "markdown",
      "source": [
        "##Categorizing Matrices"
      ],
      "metadata": {
        "id": "7BQdLC7ySpw7"
      }
    },
    {
      "cell_type": "markdown",
      "source": [
        "Matrixes can be classified in a variety of ways. One might be based on their shape, and the other on their element values. We'll make an effort to go through them."
      ],
      "metadata": {
        "id": "E6dPmEJF4ARG"
      }
    },
    {
      "cell_type": "markdown",
      "source": [
        "###According to shape"
      ],
      "metadata": {
        "id": "VVAg3oM2Tj-V"
      }
    },
    {
      "cell_type": "markdown",
      "source": [
        "####Row and Column Matrices"
      ],
      "metadata": {
        "id": "Pli6qKUuTsgz"
      }
    },
    {
      "cell_type": "markdown",
      "source": [
        "A row matrix is a 1-by-n (single row) matrix, whereas a column matrix is an n-by-1 matrix (a single column). Row and column matrices are sometimes known as row and column vectors."
      ],
      "metadata": {
        "id": "85YdXHjx43zB"
      }
    },
    {
      "cell_type": "code",
      "source": [
        "## Declaring a Row Matrix\n",
        "\n",
        "rowmatrix1D = np.array([\n",
        "          3, 5, 4, -6\n",
        "]) ## this is a 1-D Matrix with a shape of (3,), it's not really considered as a row marix.\n",
        "row_mat_2D = np.array([\n",
        "          [3,4,5,-6]\n",
        "]) ## This is a 2-D matrix with a shape of (1,3)\n",
        "describe_mat(rowmatrix1D)\n",
        "describe_mat(row_mat_2D)"
      ],
      "metadata": {
        "id": "fZH37_M1Tv6p",
        "outputId": "5363a3ad-2a8f-452e-c64d-f226c9df2542",
        "colab": {
          "base_uri": "https://localhost:8080/"
        }
      },
      "execution_count": null,
      "outputs": [
        {
          "output_type": "stream",
          "name": "stdout",
          "text": [
            "Matrix:\n",
            "[ 3  5  4 -6]\n",
            "\n",
            "Shape:\t(4,)\n",
            "Rank:\t1\n",
            "\n",
            "Matrix:\n",
            "[[ 3  4  5 -6]]\n",
            "\n",
            "Shape:\t(1, 4)\n",
            "Rank:\t2\n",
            "\n"
          ]
        }
      ]
    },
    {
      "cell_type": "code",
      "source": [
        "## Declaring a Column Matrix\n",
        "\n",
        "col_mat = np.array([\n",
        "    [3],\n",
        "    [4],\n",
        "    [7]\n",
        "]) ## this is a 2-D Matrix with a shape of (3,1)\n",
        "describe_mat(col_mat)\n"
      ],
      "metadata": {
        "colab": {
          "base_uri": "https://localhost:8080/"
        },
        "id": "N5-jwpoTUn4a",
        "outputId": "8ecb5ef3-8d1f-48fe-ded3-6f620f712df0"
      },
      "execution_count": null,
      "outputs": [
        {
          "output_type": "stream",
          "name": "stdout",
          "text": [
            "Matrix:\n",
            "[[3]\n",
            " [4]\n",
            " [7]]\n",
            "\n",
            "Shape:\t(3, 1)\n",
            "Rank:\t2\n",
            "\n"
          ]
        }
      ]
    },
    {
      "cell_type": "markdown",
      "source": [
        "####Square Matrices"
      ],
      "metadata": {
        "id": "XPhfMovzVNxE"
      }
    },
    {
      "cell_type": "markdown",
      "source": [
        "A square matrix is a matrix that has the same number of rows and columns. A square matrix of order is an n-by-n matrix. . Addition and multiplication can be performed on any two square matrices of the same order."
      ],
      "metadata": {
        "id": "4l4JZwqg6ZdW"
      }
    },
    {
      "cell_type": "code",
      "source": [
        "def describe_mat(matrix):\n",
        "    is_square = True if matrix.shape[0] == matrix.shape[1] else False \n",
        "    print(f'Matrix:\\n{matrix}\\n\\nShape:\\t{matrix.shape}\\nRank:\\t{matrix.ndim}\\nIs Square: {is_square}\\n')\n"
      ],
      "metadata": {
        "id": "gAZ97RT-VQN0"
      },
      "execution_count": null,
      "outputs": []
    },
    {
      "cell_type": "code",
      "source": [
        "square_mat = np.array([\n",
        "    [3,4,7],\n",
        "    [5,5,10],\n",
        "    [8,3,4]\n",
        "])\n",
        "\n",
        "non_square_mat = np.array([\n",
        "    [3,4,7],\n",
        "    [5,5,10]\n",
        "])\n",
        "describe_mat(square_mat)\n",
        "describe_mat(non_square_mat)\n"
      ],
      "metadata": {
        "colab": {
          "base_uri": "https://localhost:8080/"
        },
        "id": "4as6QR3eVbCs",
        "outputId": "4289c96a-ba9c-4206-cec0-6cf4eeb438f0"
      },
      "execution_count": null,
      "outputs": [
        {
          "output_type": "stream",
          "name": "stdout",
          "text": [
            "Matrix:\n",
            "[[ 3  4  7]\n",
            " [ 5  5 10]\n",
            " [ 8  3  4]]\n",
            "\n",
            "Shape:\t(3, 3)\n",
            "Rank:\t2\n",
            "Is Square: True\n",
            "\n",
            "Matrix:\n",
            "[[ 3  4  7]\n",
            " [ 5  5 10]]\n",
            "\n",
            "Shape:\t(2, 3)\n",
            "Rank:\t2\n",
            "Is Square: False\n",
            "\n"
          ]
        }
      ]
    },
    {
      "cell_type": "markdown",
      "source": [
        "###According to element values"
      ],
      "metadata": {
        "id": "5RriFpB2WG95"
      }
    },
    {
      "cell_type": "markdown",
      "source": [
        "####Null Matrix"
      ],
      "metadata": {
        "id": "U0HU1TlmWKmZ"
      }
    },
    {
      "cell_type": "code",
      "source": [
        "def describe_mat(matrix):\n",
        "    if matrix.size > 0:\n",
        "        is_square = True if matrix.shape[0] == matrix.shape[1] else False \n",
        "        print(f'Matrix:\\n{matrix}\\n\\nShape:\\t{matrix.shape}\\nRank:\\t{matrix.ndim}\\nIs Square: {is_square}\\n')\n",
        "    else:\n",
        "        print('Matrix is Null')\n"
      ],
      "metadata": {
        "id": "I9PKvePFWM1j"
      },
      "execution_count": null,
      "outputs": []
    },
    {
      "cell_type": "code",
      "source": [
        "null_mat = np.array([])\n",
        "describe_mat(null_mat)\n"
      ],
      "metadata": {
        "colab": {
          "base_uri": "https://localhost:8080/"
        },
        "id": "ev7SdGdyWYCN",
        "outputId": "7a887d6e-ea56-4ddd-ebda-bc84b7f2cc4b"
      },
      "execution_count": null,
      "outputs": [
        {
          "output_type": "stream",
          "name": "stdout",
          "text": [
            "Matrix is Null\n"
          ]
        }
      ]
    },
    {
      "cell_type": "markdown",
      "source": [
        "####Zero Matrix"
      ],
      "metadata": {
        "id": "TbGQtOjrW51T"
      }
    },
    {
      "cell_type": "markdown",
      "source": [
        "The zeros() function returns a new array of the specified shape and type, with the element's value set to 0."
      ],
      "metadata": {
        "id": "Rw-W9rIn7QIE"
      }
    },
    {
      "cell_type": "code",
      "source": [
        "zero_mat_row = np.zeros((3,4))\n",
        "zero_mat_sqr = np.zeros((4,4))\n",
        "zero_mat_rct = np.zeros((5,4))\n",
        "\n",
        "print(f'Zero Row Matrix: \\n{zero_mat_row}')\n",
        "print(f'Zero Square Matrix: \\n{zero_mat_sqr}')\n",
        "print(f'Zero Rectangular Matrix: \\n{zero_mat_rct}')\n"
      ],
      "metadata": {
        "colab": {
          "base_uri": "https://localhost:8080/"
        },
        "id": "wY4pN0SrW-Ch",
        "outputId": "07292921-6a5e-4725-9e6b-e68beaccb44a"
      },
      "execution_count": null,
      "outputs": [
        {
          "output_type": "stream",
          "name": "stdout",
          "text": [
            "Zero Row Matrix: \n",
            "[[0. 0. 0. 0.]\n",
            " [0. 0. 0. 0.]\n",
            " [0. 0. 0. 0.]]\n",
            "Zero Square Matrix: \n",
            "[[0. 0. 0. 0.]\n",
            " [0. 0. 0. 0.]\n",
            " [0. 0. 0. 0.]\n",
            " [0. 0. 0. 0.]]\n",
            "Zero Rectangular Matrix: \n",
            "[[0. 0. 0. 0.]\n",
            " [0. 0. 0. 0.]\n",
            " [0. 0. 0. 0.]\n",
            " [0. 0. 0. 0.]\n",
            " [0. 0. 0. 0.]]\n"
          ]
        }
      ]
    },
    {
      "cell_type": "markdown",
      "source": [
        "####Ones Matrix"
      ],
      "metadata": {
        "id": "3cqj2chyXkee"
      }
    },
    {
      "cell_type": "markdown",
      "source": [
        "The Ones Matrix returns a new array of the specified shape and type, with the element's value set to 1."
      ],
      "metadata": {
        "id": "Q2t9T-QV8Cs8"
      }
    },
    {
      "cell_type": "code",
      "source": [
        "ones_mat_row = np.ones((3,4))\n",
        "ones_mat_sqr = np.ones((4,4))\n",
        "ones_mat_rct = np.ones((5,4))\n",
        "\n",
        "print(f'Ones Row Matrix: \\n{ones_mat_row}')\n",
        "print(f'Ones Square Matrix: \\n{ones_mat_sqr}')\n",
        "print(f'Ones Rectangular Matrix: \\n{ones_mat_rct}')\n"
      ],
      "metadata": {
        "colab": {
          "base_uri": "https://localhost:8080/"
        },
        "id": "gH5H1W5oXmhc",
        "outputId": "f9d054ad-78ba-41d8-c4c0-a185a44c864e"
      },
      "execution_count": null,
      "outputs": [
        {
          "output_type": "stream",
          "name": "stdout",
          "text": [
            "Ones Row Matrix: \n",
            "[[1. 1. 1. 1.]\n",
            " [1. 1. 1. 1.]\n",
            " [1. 1. 1. 1.]]\n",
            "Ones Square Matrix: \n",
            "[[1. 1. 1. 1.]\n",
            " [1. 1. 1. 1.]\n",
            " [1. 1. 1. 1.]\n",
            " [1. 1. 1. 1.]]\n",
            "Ones Rectangular Matrix: \n",
            "[[1. 1. 1. 1.]\n",
            " [1. 1. 1. 1.]\n",
            " [1. 1. 1. 1.]\n",
            " [1. 1. 1. 1.]\n",
            " [1. 1. 1. 1.]]\n"
          ]
        }
      ]
    },
    {
      "cell_type": "markdown",
      "source": [
        "####Diagonal Matrix"
      ],
      "metadata": {
        "id": "2YVZK0pYX62x"
      }
    },
    {
      "cell_type": "markdown",
      "source": [
        "A diagonal matrix is a matrix in linear algebra in which the entries outside the main diagonal are all zero; the word usually applies to square matrices."
      ],
      "metadata": {
        "id": "B_ArYfVk8_CA"
      }
    },
    {
      "cell_type": "code",
      "source": [
        "np.array([\n",
        "    [4,0,0],\n",
        "    [0,5,0],\n",
        "    [0,0,7]\n",
        "])\n",
        "# a[3,3], a[2,2], a[4,4], ... a[n-1,n-1]"
      ],
      "metadata": {
        "colab": {
          "base_uri": "https://localhost:8080/"
        },
        "id": "EwrjZ96YX9b0",
        "outputId": "b5e3ae7a-9f1d-41b7-c467-33bb78fe3ed9"
      },
      "execution_count": null,
      "outputs": [
        {
          "output_type": "execute_result",
          "data": {
            "text/plain": [
              "array([[4, 0, 0],\n",
              "       [0, 5, 0],\n",
              "       [0, 0, 7]])"
            ]
          },
          "metadata": {},
          "execution_count": 31
        }
      ]
    },
    {
      "cell_type": "code",
      "source": [
        "d = np.diag([4, 5, 7, 9])\n",
        "  #d.shape[0] == d.shape[1]\n",
        "d"
      ],
      "metadata": {
        "colab": {
          "base_uri": "https://localhost:8080/"
        },
        "id": "lgZffk5GYCkQ",
        "outputId": "a086a24e-2839-4f45-9aa4-7643d6db861d"
      },
      "execution_count": null,
      "outputs": [
        {
          "output_type": "execute_result",
          "data": {
            "text/plain": [
              "array([[4, 0, 0, 0],\n",
              "       [0, 5, 0, 0],\n",
              "       [0, 0, 7, 0],\n",
              "       [0, 0, 0, 9]])"
            ]
          },
          "metadata": {},
          "execution_count": 32
        }
      ]
    },
    {
      "cell_type": "markdown",
      "source": [
        "####Identity Matrix"
      ],
      "metadata": {
        "id": "qWx85zdeYxj5"
      }
    },
    {
      "cell_type": "markdown",
      "source": [
        "An Identity Matrix is a type of diagonal matrix in which the values on the diagonal are all ones."
      ],
      "metadata": {
        "id": "lVHd9ofo-geq"
      }
    },
    {
      "cell_type": "code",
      "source": [
        "np.eye(7)"
      ],
      "metadata": {
        "colab": {
          "base_uri": "https://localhost:8080/"
        },
        "id": "lPIudksQY0LC",
        "outputId": "9788d334-cee5-4e8b-a2ef-519a65b5c4c2"
      },
      "execution_count": null,
      "outputs": [
        {
          "output_type": "execute_result",
          "data": {
            "text/plain": [
              "array([[1., 0., 0., 0., 0., 0., 0.],\n",
              "       [0., 1., 0., 0., 0., 0., 0.],\n",
              "       [0., 0., 1., 0., 0., 0., 0.],\n",
              "       [0., 0., 0., 1., 0., 0., 0.],\n",
              "       [0., 0., 0., 0., 1., 0., 0.],\n",
              "       [0., 0., 0., 0., 0., 1., 0.],\n",
              "       [0., 0., 0., 0., 0., 0., 1.]])"
            ]
          },
          "metadata": {},
          "execution_count": 38
        }
      ]
    },
    {
      "cell_type": "code",
      "source": [
        "np.identity(5)"
      ],
      "metadata": {
        "colab": {
          "base_uri": "https://localhost:8080/"
        },
        "id": "1VhhjPhuY8JB",
        "outputId": "e9c2b3a6-5a5c-4b30-facc-9d971c4dfcfe"
      },
      "execution_count": null,
      "outputs": [
        {
          "output_type": "execute_result",
          "data": {
            "text/plain": [
              "array([[1., 0., 0., 0., 0.],\n",
              "       [0., 1., 0., 0., 0.],\n",
              "       [0., 0., 1., 0., 0.],\n",
              "       [0., 0., 0., 1., 0.],\n",
              "       [0., 0., 0., 0., 1.]])"
            ]
          },
          "metadata": {},
          "execution_count": 36
        }
      ]
    },
    {
      "cell_type": "markdown",
      "source": [
        "#### Upper Triangular Matrix"
      ],
      "metadata": {
        "id": "Of5xOrVG-3N8"
      }
    },
    {
      "cell_type": "markdown",
      "source": [
        "An upper triangular matrix is one with a n value below the diagonal."
      ],
      "metadata": {
        "id": "sPdwbJzv-_Gu"
      }
    },
    {
      "cell_type": "code",
      "source": [
        "np.array([\n",
        "    [3,4,5,6],\n",
        "    [0,3,1,-1],\n",
        "    [0,0,5,2],\n",
        "    [0,0,0,2]\n",
        "])\n"
      ],
      "metadata": {
        "colab": {
          "base_uri": "https://localhost:8080/"
        },
        "id": "bkCWq_mFZUeh",
        "outputId": "32e03c59-bd63-484f-9e3d-90f245d11630"
      },
      "execution_count": null,
      "outputs": [
        {
          "output_type": "execute_result",
          "data": {
            "text/plain": [
              "array([[ 3,  4,  5,  6],\n",
              "       [ 0,  3,  1, -1],\n",
              "       [ 0,  0,  5,  2],\n",
              "       [ 0,  0,  0,  2]])"
            ]
          },
          "metadata": {},
          "execution_count": 39
        }
      ]
    },
    {
      "cell_type": "code",
      "source": [
        "F = np.array([\n",
        "              [4, -5, 6, -8, 7],\n",
        "              [4, -5, 6, -8, 7],\n",
        "              [4, -5, 6, -8, 7],\n",
        "              [4, -5, 6, -8, 7],\n",
        "              [4, -5, 6, -8, 7],\n",
        "])\n",
        "np.triu(F)\n"
      ],
      "metadata": {
        "colab": {
          "base_uri": "https://localhost:8080/"
        },
        "id": "mhrXvpwDZoUq",
        "outputId": "2c920d60-cec5-4bb9-e38e-0a688908c44e"
      },
      "execution_count": null,
      "outputs": [
        {
          "output_type": "execute_result",
          "data": {
            "text/plain": [
              "array([[ 4, -5,  6, -8,  7],\n",
              "       [ 0, -5,  6, -8,  7],\n",
              "       [ 0,  0,  6, -8,  7],\n",
              "       [ 0,  0,  0, -8,  7],\n",
              "       [ 0,  0,  0,  0,  7]])"
            ]
          },
          "metadata": {},
          "execution_count": 41
        }
      ]
    },
    {
      "cell_type": "markdown",
      "source": [
        "####Lower Triangular Matrix"
      ],
      "metadata": {
        "id": "C8q9uyDqZ9_O"
      }
    },
    {
      "cell_type": "markdown",
      "source": [
        "A Lower triangular matrix is one with a n value above the diagonal."
      ],
      "metadata": {
        "id": "tv2A0A0ZAAvW"
      }
    },
    {
      "cell_type": "code",
      "source": [
        "np.tril(F)\n"
      ],
      "metadata": {
        "colab": {
          "base_uri": "https://localhost:8080/"
        },
        "id": "iHSpciEZaZRa",
        "outputId": "29f18fbb-c9ff-41d1-b7b5-a1c9aa7f9b0b"
      },
      "execution_count": null,
      "outputs": [
        {
          "output_type": "execute_result",
          "data": {
            "text/plain": [
              "array([[ 4,  0,  0,  0,  0],\n",
              "       [ 4, -5,  0,  0,  0],\n",
              "       [ 4, -5,  6,  0,  0],\n",
              "       [ 4, -5,  6, -8,  0],\n",
              "       [ 4, -5,  6, -8,  7]])"
            ]
          },
          "metadata": {},
          "execution_count": 42
        }
      ]
    },
    {
      "cell_type": "code",
      "source": [
        "np.array([\n",
        "      [3,2,2],\n",
        "      [7,5,2],\n",
        "      [9,10,7]\n",
        "])"
      ],
      "metadata": {
        "colab": {
          "base_uri": "https://localhost:8080/"
        },
        "id": "w1RVUgfaaIln",
        "outputId": "1107b814-0b94-4e70-bcd9-b049a8659980"
      },
      "execution_count": null,
      "outputs": [
        {
          "output_type": "execute_result",
          "data": {
            "text/plain": [
              "array([[ 3,  2,  2],\n",
              "       [ 7,  5,  2],\n",
              "       [ 9, 10,  7]])"
            ]
          },
          "metadata": {},
          "execution_count": 43
        }
      ]
    },
    {
      "cell_type": "markdown",
      "source": [
        "#Practice"
      ],
      "metadata": {
        "id": "2OBEUDB9SO7l"
      }
    },
    {
      "cell_type": "markdown",
      "source": [
        "1. Given the linear combination below, try to create a corresponding matrix representing it."
      ],
      "metadata": {
        "id": "EIbTFU4nVMsd"
      }
    },
    {
      "cell_type": "markdown",
      "source": [
        ":$$\\theta = 7x + 5y = z$$"
      ],
      "metadata": {
        "id": "yCOvcoS7VM52"
      }
    },
    {
      "cell_type": "markdown",
      "source": [
        "2. Given the system of linear combination below, try to encode it as a matrix. Also decribe the matrix."
      ],
      "metadata": {
        "id": "JAXjgAiWVdX3"
      }
    },
    {
      "cell_type": "markdown",
      "source": [
        "$$\n",
        "A = \\left\\{\\begin{array}\n",
        "7x_3 + 4x_4 +x_5\\\\\n",
        "6x_4 - x_5\\\\\n",
        "13x_5\n",
        "\\end{array}\\right.\n",
        "$$"
      ],
      "metadata": {
        "id": "IG40yKy9VsIw"
      }
    },
    {
      "cell_type": "markdown",
      "source": [
        "3. Given the matrix below, express it as a linear combination in a markdown and a laTeX Markdown."
      ],
      "metadata": {
        "id": "26uKGqgCWPdu"
      }
    },
    {
      "cell_type": "code",
      "source": [
        "G = np.array([\n",
        "              [1,7,8],\n",
        "              [2,2,2],\n",
        "              [4,6,7]\n",
        "])"
      ],
      "metadata": {
        "id": "g4juxVXJXgGc"
      },
      "execution_count": 32,
      "outputs": []
    },
    {
      "cell_type": "markdown",
      "source": [
        "Linear combination\n",
        "$$\n",
        "G = \\left\\{\n",
        "    \\begin{array}\\\n",
        "      x_1+7x_2+8x_3 \\\\\n",
        "      2x_1+2x_2-2y_3 \\\\\n",
        "      4x_1 + 6x_2 +7x_3\n",
        "    \\end{array}\n",
        "\\right.\n",
        "$$\n",
        "\n",
        "LaTex\n",
        "$$\n",
        "G=\\begin{bmatrix} 1 & 7 & 8 \\\\ 2 & 2 & 2 \\\\ 4 & 6 & 7\\end{bmatrix}\\\\\n",
        "$$"
      ],
      "metadata": {
        "id": "bD5xvThxS7tf"
      }
    },
    {
      "cell_type": "markdown",
      "source": [
        "Linear combination\n",
        "$$\n",
        "H = \\left\\{\n",
        "    \\begin{array}\\\n",
        "      x_1\\\\\n",
        "      2x_1+2x_2\\\\\n",
        "      4x_1 + 6x_2 +7x_3\n",
        "    \\end{array}\n",
        "\\right.\n",
        "$$\n",
        "\n",
        "LaTex\n",
        "$$\n",
        "G=\\begin{bmatrix} 1 & 0 & 0 \\\\ 2 & 2 & 0 \\\\ 4 & 6 & 7\\end{bmatrix}\\\\\n",
        "$$"
      ],
      "metadata": {
        "id": "oXL8V_bIS-co"
      }
    },
    {
      "cell_type": "code",
      "source": [
        "H = np.tril(G)\n",
        "H"
      ],
      "metadata": {
        "id": "SusVrqYBWo27",
        "outputId": "26b13d13-818c-497c-e20a-3ae4a28b9e8e",
        "colab": {
          "base_uri": "https://localhost:8080/"
        }
      },
      "execution_count": 33,
      "outputs": [
        {
          "output_type": "execute_result",
          "data": {
            "text/plain": [
              "array([[1, 0, 0],\n",
              "       [2, 2, 0],\n",
              "       [4, 6, 7]])"
            ]
          },
          "metadata": {},
          "execution_count": 33
        }
      ]
    },
    {
      "cell_type": "markdown",
      "source": [
        "##Matrix Algebra"
      ],
      "metadata": {
        "id": "I-yZpHOaDI9G"
      }
    },
    {
      "cell_type": "markdown",
      "source": [
        "###Addition"
      ],
      "metadata": {
        "id": "6J8qNv_HDMG-"
      }
    },
    {
      "cell_type": "code",
      "source": [
        "X = np.array([\n",
        "    [2,4],\n",
        "    [4,6],\n",
        "    [8,2]\n",
        "])\n",
        "Y = np.array([\n",
        "    [4,4],\n",
        "    [0,0],\n",
        "    [3,3]\n",
        "])\n",
        "X+Y"
      ],
      "metadata": {
        "id": "vlLX8zqhDOxp",
        "outputId": "32187164-f29d-431e-95ef-50bbf21e7176",
        "colab": {
          "base_uri": "https://localhost:8080/"
        }
      },
      "execution_count": 24,
      "outputs": [
        {
          "output_type": "execute_result",
          "data": {
            "text/plain": [
              "array([[ 6,  8],\n",
              "       [ 4,  6],\n",
              "       [11,  5]])"
            ]
          },
          "metadata": {},
          "execution_count": 24
        }
      ]
    },
    {
      "cell_type": "code",
      "source": [
        "4+X ##Broadcasting\n",
        "# 4*np.ones(A.shape)+A"
      ],
      "metadata": {
        "id": "4VDEPEEjDQvV",
        "outputId": "2b7168e1-bbd4-4a28-b09b-3a0f143cb35b",
        "colab": {
          "base_uri": "https://localhost:8080/"
        }
      },
      "execution_count": null,
      "outputs": [
        {
          "output_type": "execute_result",
          "data": {
            "text/plain": [
              "array([[ 6,  8],\n",
              "       [ 8, 10],\n",
              "       [12,  6]])"
            ]
          },
          "metadata": {},
          "execution_count": 47
        }
      ]
    },
    {
      "cell_type": "markdown",
      "source": [
        "###Subtraction"
      ],
      "metadata": {
        "id": "1qCFpcZFDf_M"
      }
    },
    {
      "cell_type": "code",
      "source": [
        "X-Y"
      ],
      "metadata": {
        "id": "nM3Ps6VnDhCv",
        "outputId": "e754b479-34f1-44e3-df43-2814a8dacd16",
        "colab": {
          "base_uri": "https://localhost:8080/"
        }
      },
      "execution_count": null,
      "outputs": [
        {
          "output_type": "execute_result",
          "data": {
            "text/plain": [
              "array([[-2,  0],\n",
              "       [ 4,  6],\n",
              "       [ 6,  0]])"
            ]
          },
          "metadata": {},
          "execution_count": 48
        }
      ]
    },
    {
      "cell_type": "code",
      "source": [
        "6-Y == 6*np.ones(Y.shape)-Y"
      ],
      "metadata": {
        "id": "4yNdO7q4DmaI",
        "outputId": "ae625319-24c5-451c-f0dc-682f3667d0f8",
        "colab": {
          "base_uri": "https://localhost:8080/"
        }
      },
      "execution_count": null,
      "outputs": [
        {
          "output_type": "execute_result",
          "data": {
            "text/plain": [
              "array([[ True,  True],\n",
              "       [ True,  True],\n",
              "       [ True,  True]])"
            ]
          },
          "metadata": {},
          "execution_count": 49
        }
      ]
    },
    {
      "cell_type": "markdown",
      "source": [
        "###Element-wise Multiplication"
      ],
      "metadata": {
        "id": "iqHo30hyDqF4"
      }
    },
    {
      "cell_type": "code",
      "source": [
        "X*Y\n",
        "np.multiply(X,Y)"
      ],
      "metadata": {
        "id": "o2qhOeAFDtoZ",
        "outputId": "e388ca94-cc9c-41a4-9279-4db946483d96",
        "colab": {
          "base_uri": "https://localhost:8080/"
        }
      },
      "execution_count": null,
      "outputs": [
        {
          "output_type": "execute_result",
          "data": {
            "text/plain": [
              "array([[ 8, 16],\n",
              "       [ 0,  0],\n",
              "       [16,  4]])"
            ]
          },
          "metadata": {},
          "execution_count": 50
        }
      ]
    },
    {
      "cell_type": "code",
      "source": [
        "4*X"
      ],
      "metadata": {
        "id": "1HekOx7tDw8L",
        "outputId": "b314f63a-45b7-4635-d338-a1f43175ce76",
        "colab": {
          "base_uri": "https://localhost:8080/"
        }
      },
      "execution_count": null,
      "outputs": [
        {
          "output_type": "execute_result",
          "data": {
            "text/plain": [
              "array([[ 8, 16],\n",
              "       [16, 24],\n",
              "       [32,  8]])"
            ]
          },
          "metadata": {},
          "execution_count": 51
        }
      ]
    },
    {
      "cell_type": "code",
      "source": [
        "X@Y"
      ],
      "metadata": {
        "id": "w6JhNwYdD1vg",
        "outputId": "ebbb00b5-9851-4550-e0e7-4a1054d5d951",
        "colab": {
          "base_uri": "https://localhost:8080/"
        }
      },
      "execution_count": 22,
      "outputs": [
        {
          "output_type": "execute_result",
          "data": {
            "text/plain": [
              "array([[ 8,  8],\n",
              "       [16, 16],\n",
              "       [32, 32]])"
            ]
          },
          "metadata": {},
          "execution_count": 22
        }
      ]
    },
    {
      "cell_type": "code",
      "source": [
        "alpha=20**-20\n",
        "X/(alpha+Y)"
      ],
      "metadata": {
        "id": "NPGlFU9sD3XX",
        "outputId": "18e58aed-4cb6-4335-e440-c1e84488a493",
        "colab": {
          "base_uri": "https://localhost:8080/"
        }
      },
      "execution_count": null,
      "outputs": [
        {
          "output_type": "execute_result",
          "data": {
            "text/plain": [
              "array([[5.000000e-01, 1.000000e+00],\n",
              "       [4.194304e+26, 6.291456e+26],\n",
              "       [4.000000e+00, 1.000000e+00]])"
            ]
          },
          "metadata": {},
          "execution_count": 53
        }
      ]
    },
    {
      "cell_type": "code",
      "source": [
        "np.add(X,Y)"
      ],
      "metadata": {
        "id": "jB-cvGexD7lS",
        "outputId": "df00535d-1801-46e0-c991-69fa40d9d42d",
        "colab": {
          "base_uri": "https://localhost:8080/"
        }
      },
      "execution_count": null,
      "outputs": [
        {
          "output_type": "execute_result",
          "data": {
            "text/plain": [
              "array([[ 6,  8],\n",
              "       [ 4,  6],\n",
              "       [10,  4]])"
            ]
          },
          "metadata": {},
          "execution_count": 54
        }
      ]
    },
    {
      "cell_type": "markdown",
      "source": [
        "#Activity"
      ],
      "metadata": {
        "id": "X6Os_545FDqa"
      }
    },
    {
      "cell_type": "markdown",
      "source": [
        "##Task 1\n",
        "\n",
        "Create a function named mat_desc() that througouhly describes a matrix, it should:\n",
        "\n",
        "1. Displays the shape, size, and rank of the matrix.\n",
        "2. Displays whether the matrix is square or non-square.\n",
        "3. Displays whether the matrix is an empty matrix.\n",
        "4. Displays if the matrix is an identity, ones, or zeros matrix\n",
        "\n",
        "Use 5 sample matrices in which their shapes are not lower than (3,3). In your methodology, create a flowchart discuss the functions and methods you have done. Present your results in the results section showing the description of each matrix you have declared."
      ],
      "metadata": {
        "id": "mN9nY5mxFJ4N"
      }
    },
    {
      "cell_type": "code",
      "source": [
        "## Function Area\n",
        "\n",
        "import numpy as np\n",
        "\n",
        "\n"
      ],
      "metadata": {
        "id": "blZMbccURvk3"
      },
      "execution_count": 12,
      "outputs": []
    },
    {
      "cell_type": "code",
      "source": [
        "## Matrix Declarations\n",
        "\n",
        "def mat_desc(mat):\n",
        "    sq = False\n",
        "    mat = np.array(mat)\n",
        "    print(mat)\n",
        "    print('Shape:', mat.shape)\n",
        "    print('Size:', mat.size)\n",
        "    print('Rank:', np.linalg.matrix_rank(mat))\n",
        "    if(mat.shape[0] == mat.shape[1]):\n",
        "        sq = True\n",
        "        print('The matrix is square')\n",
        "    else:\n",
        "        print('The matrix is non-square')\n",
        "    if(mat.shape[0] == 0 and mat.shape[1] == 0):\n",
        "        print('The matrix is empty')\n",
        "    else:\n",
        "        print('The matrix is not empty')\n",
        "    iden = np.identity(mat.shape[0])\n",
        "    if(sq and (iden == mat).all()):\n",
        "        print('The matrix is an identity matrix')\n",
        "    else:\n",
        "        print('The matrix is not an identity matrix')\n",
        "    one = np.ones((mat.shape[0], mat.shape[1]))\n",
        "    if((one == mat).all()):\n",
        "        print('The matrix is a ones matrix')\n",
        "    else:\n",
        "        print('The matrix is not an ones matrix')\n",
        "    zero = np.zeros((mat.shape[0], mat.shape[1]))\n",
        "    if((zero == mat).all()):\n",
        "        print('The matrix is a zeros matrix')\n",
        "    else:\n",
        "        print('The matrix is not a zeros matrix')"
      ],
      "metadata": {
        "id": "5ZAgxDv_GBYQ"
      },
      "execution_count": 13,
      "outputs": []
    },
    {
      "cell_type": "code",
      "source": [
        "## Sample Matrices\n",
        "print('Matrix 1:')\n",
        "mat_desc([[0,0,0,0], [0, 0, 0,0], [0,0,0,0]])\n",
        "print('Matrix 2:')\n",
        "mat_desc([[4, 3, 0, 1], [2, 6, 2,5], [7, 1, 2, 8]])\n",
        "print('Matrix 3:')\n",
        "mat_desc([[1, 3, 2, 2], [4, 7, 6, 2], [5, 6, 9, 4]])\n",
        "print('Matrix 4:')\n",
        "mat_desc([[1,1,1],[1,1,1],[1,1,1],[1,1,1], [1,1,1]])\n",
        "print('Matrix 5:')\n",
        "mat_desc([[7,1,5,0],[1,6,2,0],[4,8,6,9],[7,2,1,0],[1,9,1,5]])"
      ],
      "metadata": {
        "id": "MKVMtOESGGGm",
        "outputId": "706c1dfd-a04e-4c68-8e19-31efc148258c",
        "colab": {
          "base_uri": "https://localhost:8080/"
        }
      },
      "execution_count": 14,
      "outputs": [
        {
          "output_type": "stream",
          "name": "stdout",
          "text": [
            "Matrix 1:\n",
            "[[0 0 0 0]\n",
            " [0 0 0 0]\n",
            " [0 0 0 0]]\n",
            "Shape: (3, 4)\n",
            "Size: 12\n",
            "Rank: 0\n",
            "The matrix is non-square\n",
            "The matrix is not empty\n",
            "The matrix is not an identity matrix\n",
            "The matrix is not an ones matrix\n",
            "The matrix is a zeros matrix\n",
            "Matrix 2:\n",
            "[[4 3 0 1]\n",
            " [2 6 2 5]\n",
            " [7 1 2 8]]\n",
            "Shape: (3, 4)\n",
            "Size: 12\n",
            "Rank: 3\n",
            "The matrix is non-square\n",
            "The matrix is not empty\n",
            "The matrix is not an identity matrix\n",
            "The matrix is not an ones matrix\n",
            "The matrix is not a zeros matrix\n",
            "Matrix 3:\n",
            "[[1 3 2 2]\n",
            " [4 7 6 2]\n",
            " [5 6 9 4]]\n",
            "Shape: (3, 4)\n",
            "Size: 12\n",
            "Rank: 3\n",
            "The matrix is non-square\n",
            "The matrix is not empty\n",
            "The matrix is not an identity matrix\n",
            "The matrix is not an ones matrix\n",
            "The matrix is not a zeros matrix\n",
            "Matrix 4:\n",
            "[[1 1 1]\n",
            " [1 1 1]\n",
            " [1 1 1]\n",
            " [1 1 1]\n",
            " [1 1 1]]\n",
            "Shape: (5, 3)\n",
            "Size: 15\n",
            "Rank: 1\n",
            "The matrix is non-square\n",
            "The matrix is not empty\n",
            "The matrix is not an identity matrix\n",
            "The matrix is a ones matrix\n",
            "The matrix is not a zeros matrix\n",
            "Matrix 5:\n",
            "[[7 1 5 0]\n",
            " [1 6 2 0]\n",
            " [4 8 6 9]\n",
            " [7 2 1 0]\n",
            " [1 9 1 5]]\n",
            "Shape: (5, 4)\n",
            "Size: 20\n",
            "Rank: 4\n",
            "The matrix is non-square\n",
            "The matrix is not empty\n",
            "The matrix is not an identity matrix\n",
            "The matrix is not an ones matrix\n",
            "The matrix is not a zeros matrix\n"
          ]
        }
      ]
    },
    {
      "cell_type": "markdown",
      "source": [
        "##Task 2\n",
        "\n",
        "Create a function named mat_operations() that takes in two matrices a input parameters it should:\n",
        "\n",
        "1. Determines if the matrices are viable for operation and returns your own error message if they are not viable.\n",
        "3. 2. Returns the sum of the matrices.\n",
        "4. Returns the differen of the matrices.\n",
        "5. Returns the element-wise multiplication of the matrices.\n",
        "6. Returns the element-wise division of the matrices.\n",
        "\n",
        "Use 5 sample matrices in which their shapes are not lower than  (3,3) . In your methodology, create a flowchart discuss the functions and methods you have done. Present your results in the results section showing the description of each matrix you have declared."
      ],
      "metadata": {
        "id": "0vC6wn_XGeCx"
      }
    },
    {
      "cell_type": "code",
      "source": [
        " import numpy as np"
      ],
      "metadata": {
        "id": "S0S8jV1jEaYc"
      },
      "execution_count": null,
      "outputs": []
    },
    {
      "cell_type": "code",
      "source": [
        "def mat_operations(mat1, mat2):\n",
        "    mat1 = np.array(mat1)\n",
        "    mat2 = np.array(mat2)\n",
        "    print('Matrix 1:', mat1)\n",
        "    print('Matrix 2:', mat2)\n",
        "    if(mat1.shape != mat2.shape):\n",
        "        print('The matrices are not equal and invalid size operation.')\n",
        "        return\n",
        "    print('Sum of the  matrices:')\n",
        "    matsum = mat1 + mat2\n",
        "    print(matsum)\n",
        "    print('Difference of the  matrices:')\n",
        "    matdiff = mat1 - mat2\n",
        "    print(matdiff)\n",
        "    print('Element-wise multiplication of the  matrices:')\n",
        "    matmul = np.multiply(mat1, mat2)\n",
        "    print(matmul)\n",
        "    print('Element-wise division of the  matrices:')\n",
        "    matdiv = np.divide(mat1, mat2)\n",
        "    print(matdiv)"
      ],
      "metadata": {
        "id": "3ggSlWrRGqNg"
      },
      "execution_count": null,
      "outputs": []
    },
    {
      "cell_type": "code",
      "source": [
        "print('sample1:')\n",
        "mat_operations([[2,3,2], [5,4,7], [4,3,8]], [[3,4,5],[9,7,1],[1,2,6]])\n",
        "print('sample 2:')\n",
        "mat_operations([[2, 6, 3,4], [3,3,1,5], [5,1,5,7]], [[3,7,5,7],[1,2,1,9],[1,1,1,6]])\n",
        "print('sample 3:')\n",
        "mat_operations([[2, 5, 1], [3,6,3], [6,1,5]], [[5,4,2],[3,4,6],[3,2,3]])\n",
        "print('sample 4:')\n",
        "mat_operations([[6,2,1,8,2], [3,6,3,7,8], [6,1,5,9,2]], [[5,4,2,7,7],[3,4,6,8,9],[3,2,3,6,2]])\n",
        "print('sample 5:')\n",
        "mat_operations([[6,2,1,8,2,5], [3,6,3,7,8,8], [6,1,5,9,2,2]], [[5,4,2,7,7,8],[3,4,6,8,9,2],[3,2,3,6,2,1]])"
      ],
      "metadata": {
        "id": "RXeinojUGr6_",
        "outputId": "df5f198c-728a-458c-fedb-a7746d1512fa",
        "colab": {
          "base_uri": "https://localhost:8080/"
        }
      },
      "execution_count": null,
      "outputs": [
        {
          "output_type": "stream",
          "name": "stdout",
          "text": [
            "sample1:\n",
            "Matrix 1: [[2 3 2]\n",
            " [5 4 7]\n",
            " [4 3 8]]\n",
            "Matrix 2: [[3 4 5]\n",
            " [9 7 1]\n",
            " [1 2 6]]\n",
            "Sum of the  matrices:\n",
            "[[ 5  7  7]\n",
            " [14 11  8]\n",
            " [ 5  5 14]]\n",
            "Difference of the  matrices:\n",
            "[[-1 -1 -3]\n",
            " [-4 -3  6]\n",
            " [ 3  1  2]]\n",
            "Element-wise multiplication of the  matrices:\n",
            "[[ 6 12 10]\n",
            " [45 28  7]\n",
            " [ 4  6 48]]\n",
            "Element-wise division of the  matrices:\n",
            "[[0.66666667 0.75       0.4       ]\n",
            " [0.55555556 0.57142857 7.        ]\n",
            " [4.         1.5        1.33333333]]\n",
            "sample 2:\n",
            "Matrix 1: [[2 6 3 4]\n",
            " [3 3 1 5]\n",
            " [5 1 5 7]]\n",
            "Matrix 2: [[3 7 5 7]\n",
            " [1 2 1 9]\n",
            " [1 1 1 6]]\n",
            "Sum of the  matrices:\n",
            "[[ 5 13  8 11]\n",
            " [ 4  5  2 14]\n",
            " [ 6  2  6 13]]\n",
            "Difference of the  matrices:\n",
            "[[-1 -1 -2 -3]\n",
            " [ 2  1  0 -4]\n",
            " [ 4  0  4  1]]\n",
            "Element-wise multiplication of the  matrices:\n",
            "[[ 6 42 15 28]\n",
            " [ 3  6  1 45]\n",
            " [ 5  1  5 42]]\n",
            "Element-wise division of the  matrices:\n",
            "[[0.66666667 0.85714286 0.6        0.57142857]\n",
            " [3.         1.5        1.         0.55555556]\n",
            " [5.         1.         5.         1.16666667]]\n",
            "sample 3:\n",
            "Matrix 1: [[2 5 1]\n",
            " [3 6 3]\n",
            " [6 1 5]]\n",
            "Matrix 2: [[5 4 2]\n",
            " [3 4 6]\n",
            " [3 2 3]]\n",
            "Sum of the  matrices:\n",
            "[[ 7  9  3]\n",
            " [ 6 10  9]\n",
            " [ 9  3  8]]\n",
            "Difference of the  matrices:\n",
            "[[-3  1 -1]\n",
            " [ 0  2 -3]\n",
            " [ 3 -1  2]]\n",
            "Element-wise multiplication of the  matrices:\n",
            "[[10 20  2]\n",
            " [ 9 24 18]\n",
            " [18  2 15]]\n",
            "Element-wise division of the  matrices:\n",
            "[[0.4        1.25       0.5       ]\n",
            " [1.         1.5        0.5       ]\n",
            " [2.         0.5        1.66666667]]\n",
            "sample 4:\n",
            "Matrix 1: [[6 2 1 8 2]\n",
            " [3 6 3 7 8]\n",
            " [6 1 5 9 2]]\n",
            "Matrix 2: [[5 4 2 7 7]\n",
            " [3 4 6 8 9]\n",
            " [3 2 3 6 2]]\n",
            "Sum of the  matrices:\n",
            "[[11  6  3 15  9]\n",
            " [ 6 10  9 15 17]\n",
            " [ 9  3  8 15  4]]\n",
            "Difference of the  matrices:\n",
            "[[ 1 -2 -1  1 -5]\n",
            " [ 0  2 -3 -1 -1]\n",
            " [ 3 -1  2  3  0]]\n",
            "Element-wise multiplication of the  matrices:\n",
            "[[30  8  2 56 14]\n",
            " [ 9 24 18 56 72]\n",
            " [18  2 15 54  4]]\n",
            "Element-wise division of the  matrices:\n",
            "[[1.2        0.5        0.5        1.14285714 0.28571429]\n",
            " [1.         1.5        0.5        0.875      0.88888889]\n",
            " [2.         0.5        1.66666667 1.5        1.        ]]\n",
            "sample 5:\n",
            "Matrix 1: [[6 2 1 8 2 5]\n",
            " [3 6 3 7 8 8]\n",
            " [6 1 5 9 2 2]]\n",
            "Matrix 2: [[5 4 2 7 7 8]\n",
            " [3 4 6 8 9 2]\n",
            " [3 2 3 6 2 1]]\n",
            "Sum of the  matrices:\n",
            "[[11  6  3 15  9 13]\n",
            " [ 6 10  9 15 17 10]\n",
            " [ 9  3  8 15  4  3]]\n",
            "Difference of the  matrices:\n",
            "[[ 1 -2 -1  1 -5 -3]\n",
            " [ 0  2 -3 -1 -1  6]\n",
            " [ 3 -1  2  3  0  1]]\n",
            "Element-wise multiplication of the  matrices:\n",
            "[[30  8  2 56 14 40]\n",
            " [ 9 24 18 56 72 16]\n",
            " [18  2 15 54  4  2]]\n",
            "Element-wise division of the  matrices:\n",
            "[[1.2        0.5        0.5        1.14285714 0.28571429 0.625     ]\n",
            " [1.         1.5        0.5        0.875      0.88888889 4.        ]\n",
            " [2.         0.5        1.66666667 1.5        1.         2.        ]]\n"
          ]
        }
      ]
    }
  ]
}
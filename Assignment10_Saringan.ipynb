{
  "nbformat": 4,
  "nbformat_minor": 0,
  "metadata": {
    "colab": {
      "name": "Assignment10_Saringan",
      "provenance": [],
      "authorship_tag": "ABX9TyMI/IFJgwsvluI/SIE0dH+P",
      "include_colab_link": true
    },
    "kernelspec": {
      "name": "python3",
      "display_name": "Python 3"
    },
    "language_info": {
      "name": "python"
    }
  },
  "cells": [
    {
      "cell_type": "markdown",
      "metadata": {
        "id": "view-in-github",
        "colab_type": "text"
      },
      "source": [
        "<a href=\"https://colab.research.google.com/github/Marmalade17/Linear-Algebra_ChE_2nd-Sem-2021-2022/blob/main/Assignment10_Saringan.ipynb\" target=\"_parent\"><img src=\"https://colab.research.google.com/assets/colab-badge.svg\" alt=\"Open In Colab\"/></a>"
      ]
    },
    {
      "cell_type": "markdown",
      "source": [
        "# Linear Algebra for ChE\n",
        "## Laboratory 5 : Linear Combination and Vector Spaces"
      ],
      "metadata": {
        "id": "dq5V4fgPBILv"
      }
    },
    {
      "cell_type": "markdown",
      "source": [
        "### Objectives\n",
        "At the end of this activity you will be able to:\n",
        "1. Be familiar with representing linear combinations in the 2-dimensional plane.\n",
        "2. Visualize spans using vector fields in Python.\n",
        "3. Perform vector fields operations using scientific programming."
      ],
      "metadata": {
        "id": "6kKbhgGDBKEo"
      }
    },
    {
      "cell_type": "markdown",
      "source": [
        "## Discussion"
      ],
      "metadata": {
        "id": "OT2o9qqLBMMQ"
      }
    },
    {
      "cell_type": "code",
      "source": [
        "import numpy as np\n",
        "import matplotlib.pyplot as plt\n",
        "%matplotlib inline"
      ],
      "metadata": {
        "id": "qVmuxXpgBOGT"
      },
      "execution_count": 1,
      "outputs": []
    },
    {
      "cell_type": "markdown",
      "source": [
        "## Linear Combination"
      ],
      "metadata": {
        "id": "jW6Etx8nBQEH"
      }
    },
    {
      "cell_type": "markdown",
      "source": [
        "A linear combination is defined as the addition of a vector's bases/components and its linear scaling."
      ],
      "metadata": {
        "id": "vsecvITuBSkv"
      }
    },
    {
      "cell_type": "markdown",
      "source": [
        "By charting a sample of real number values for the scalars for the vectors, we will attempt to visualize the vectors and their linear combinations. Let's start with the following vectors:"
      ],
      "metadata": {
        "id": "Ri_Zo-V-BUg3"
      }
    },
    {
      "cell_type": "markdown",
      "source": [
        "$$A = \\begin{bmatrix} 7\\\\16 \\\\\\end{bmatrix} , P = \\begin{bmatrix} 30\\\\5 \\\\\\end{bmatrix} $$"
      ],
      "metadata": {
        "id": "eJRcBVoFBWkW"
      }
    },
    {
      "cell_type": "code",
      "source": [
        "vectA =  np.array([7,16])\n",
        "vectP =  np.array([30,5])\n",
        "vectA"
      ],
      "metadata": {
        "colab": {
          "base_uri": "https://localhost:8080/"
        },
        "id": "_gyzorhuBYqG",
        "outputId": "fea4735f-6e58-4345-f3c8-a214c2c7cb00"
      },
      "execution_count": 2,
      "outputs": [
        {
          "output_type": "execute_result",
          "data": {
            "text/plain": [
              "array([ 7, 16])"
            ]
          },
          "metadata": {},
          "execution_count": 2
        }
      ]
    },
    {
      "cell_type": "markdown",
      "source": [
        "#### Span of single vectors"
      ],
      "metadata": {
        "id": "XCoMFVmdBa6w"
      }
    },
    {
      "cell_type": "markdown",
      "source": [
        "A line span can be used to represent the span of individual vectors, as mentioned in the lecture. As an example, consider the vector $A$."
      ],
      "metadata": {
        "id": "iaGu0uGZBcsG"
      }
    },
    {
      "cell_type": "markdown",
      "source": [
        "$$A = c\\cdot \\begin{bmatrix} 7\\\\14 \\\\\\end{bmatrix} $$"
      ],
      "metadata": {
        "id": "P2YhzgYKBebX"
      }
    },
    {
      "cell_type": "code",
      "source": [
        "c = np.arange(-16,5,0.25)\n",
        "\n",
        "plt.scatter(c*vectA[0],c*vectA[1])\n",
        "\n",
        "plt.xlim(-16,16)\n",
        "plt.ylim(-16,16)\n",
        "plt.axhline(y=0, color='k')\n",
        "plt.axvline(x=0, color='k')\n",
        "plt.grid()\n",
        "plt.show()"
      ],
      "metadata": {
        "colab": {
          "base_uri": "https://localhost:8080/",
          "height": 265
        },
        "id": "oyN7lQp8BgIf",
        "outputId": "d6ced919-1c03-4166-e439-92849b73aa0e"
      },
      "execution_count": 3,
      "outputs": [
        {
          "output_type": "display_data",
          "data": {
            "text/plain": [
              "<Figure size 432x288 with 1 Axes>"
            ],
            "image/png": "[encoded data removed]"
          },
          "metadata": {
            "needs_background": "light"
          }
        }
      ]
    },
    {
      "cell_type": "markdown",
      "source": [
        "$$P = c\\cdot \\begin{bmatrix} 16\\\\30 \\\\\\end{bmatrix} $$"
      ],
      "metadata": {
        "id": "sfYSY_8HBirI"
      }
    },
    {
      "cell_type": "code",
      "source": [
        "A= np.array([7,2])\n",
        "c = np.arange(-7,7,0.25)\n",
        "\n",
        "plt.scatter(A[0],A[1])\n",
        "\n",
        "plt.xlim(-10,10)\n",
        "plt.ylim(-10,10)\n",
        "plt.axhline(y=0, color='k')\n",
        "plt.axvline(x=0, color='k')\n",
        "plt.grid()\n",
        "plt.show()"
      ],
      "metadata": {
        "colab": {
          "base_uri": "https://localhost:8080/",
          "height": 268
        },
        "id": "xyHZkVRKBjeX",
        "outputId": "5d3a521c-9a80-4bf2-b26a-9dc905dbf1a0"
      },
      "execution_count": 4,
      "outputs": [
        {
          "output_type": "display_data",
          "data": {
            "text/plain": [
              "<Figure size 432x288 with 1 Axes>"
            ],
            "image/png": "[encoded data removed]"
          },
          "metadata": {
            "needs_background": "light"
          }
        }
      ]
    },
    {
      "cell_type": "markdown",
      "source": [
        "### Span of a linear combination of vectors"
      ],
      "metadata": {
        "id": "eDphaiTbBm-o"
      }
    },
    {
      "cell_type": "markdown",
      "source": [
        "So, what if we wanted to plot the span of a linear vector combination? On a two-dimensional coordinate system, we can represent it as a plane. Consider the following linear combination's span:"
      ],
      "metadata": {
        "id": "E_1MNYtrBoiH"
      }
    },
    {
      "cell_type": "markdown",
      "source": [
        "$$A = \\begin{Bmatrix} c_1 \\cdot\\begin{bmatrix} 4\\\\2 \\\\\\end{bmatrix}, \n",
        "c_2 \\cdot \\begin{bmatrix} 6\\\\-5 \\\\\\end{bmatrix}\\end{Bmatrix} $$"
      ],
      "metadata": {
        "id": "GxJ0w10DBqLO"
      }
    },
    {
      "cell_type": "code",
      "source": [
        "vectA = np.array([4,2])\n",
        "vectP = np.array([6,-5])\n",
        "\n",
        "R = np.arange(-15,15,2)\n",
        "\n",
        "c1, c2 = np.meshgrid(R,R)\n",
        "\n",
        "vectR = vectA + vectP\n",
        "spanRx = c1*vectA[0] + c2*vectP[0]\n",
        "spanRy = c1*vectA[1] + c2*vectP[1]\n",
        "plt.scatter(R*vectA[0],R*vectA[1])\n",
        "plt.scatter(R*vectP[0],R*vectP[1])\n",
        "plt.scatter(spanRx,spanRy, s=5, alpha=0.75)\n",
        "\n",
        "plt.axhline(y=0, color='k')\n",
        "plt.axvline(x=0, color='k')\n",
        "plt.grid()\n",
        "plt.show()"
      ],
      "metadata": {
        "colab": {
          "base_uri": "https://localhost:8080/",
          "height": 265
        },
        "id": "2QI2PQbkBrk6",
        "outputId": "85454ff1-1536-4105-cac5-d22aae2a9f0e"
      },
      "execution_count": 5,
      "outputs": [
        {
          "output_type": "display_data",
          "data": {
            "text/plain": [
              "<Figure size 432x288 with 1 Axes>"
            ],
            "image/png": "[encoded data removed]"
          },
          "metadata": {
            "needs_background": "light"
          }
        }
      ]
    },
    {
      "cell_type": "markdown",
      "source": [
        "$$B = \\begin{Bmatrix} c_1 \\cdot\\begin{bmatrix} 9\\\\4 \\\\\\end{bmatrix}, \n",
        "c_2 \\cdot \\begin{bmatrix} -5\\\\-7 \\\\\\end{bmatrix}\\end{Bmatrix} $$"
      ],
      "metadata": {
        "id": "7GtDsUFvBt3v"
      }
    },
    {
      "cell_type": "code",
      "source": [
        "vectO = np.array([7,-4])\n",
        "vectR = np.array([-5,-7])\n",
        "\n",
        "R = np.arange(-13,15,1)\n",
        "\n",
        "c1, c2 = np.meshgrid(R,R)\n",
        "\n",
        "vectR = vectO + vectR\n",
        "spanRx = c1*vectO[0] + c2*vectR[0]\n",
        "spanRy = c1*vectO[1] + c2*vectR[1]\n",
        "plt.scatter(R*vectO[0],R*vectO[1])\n",
        "plt.scatter(R*vectR[0],R*vectR[1])\n",
        "#plt.scatter(spanRx,spanRy, s=5, alpha=0.75)\n",
        "\n",
        "plt.axhline(y=0, color='k')\n",
        "plt.axvline(x=0, color='k')\n",
        "plt.grid()\n",
        "plt.show()"
      ],
      "metadata": {
        "colab": {
          "base_uri": "https://localhost:8080/",
          "height": 265
        },
        "id": "YuVMf0vBBuko",
        "outputId": "8524b945-1e76-4286-c3a6-a74612422594"
      },
      "execution_count": 6,
      "outputs": [
        {
          "output_type": "display_data",
          "data": {
            "text/plain": [
              "<Figure size 432x288 with 1 Axes>"
            ],
            "image/png": "[encoded data removed]"
          },
          "metadata": {
            "needs_background": "light"
          }
        }
      ]
    },
    {
      "cell_type": "markdown",
      "source": [
        "Take note that if vectors are seen to be as a 2-dimensional span we can say it has a Rank of 2 or $\\mathbb{R}^2$. But if the span of the linear combination of vectors are seen to be like a line, they are said to be <b> linearly dependent </b> and they have a rank of 1 or $\\mathbb{R}^1$."
      ],
      "metadata": {
        "id": "ZXgshls-Bx4X"
      }
    },
    {
      "cell_type": "markdown",
      "source": [
        "# Activity"
      ],
      "metadata": {
        "id": "HYaMlwqCB0F4"
      }
    },
    {
      "cell_type": "markdown",
      "source": [
        "### Task 1"
      ],
      "metadata": {
        "id": "1zwsVVlMB1u6"
      }
    },
    {
      "cell_type": "markdown",
      "source": [
        "## LaTeX Format Equation"
      ],
      "metadata": {
        "id": "FWnXTKfjB3NX"
      }
    },
    {
      "cell_type": "markdown",
      "source": [
        "## LaTeX Form:\n",
        "\n",
        "$$A = \\begin{Bmatrix} A \\cdot\\begin{bmatrix} 6\\\\3 \\\\\\end{bmatrix}, \n",
        "B \\cdot \\begin{bmatrix} 8\\\\17 \\\\\\end{bmatrix}\\end{Bmatrix} $$\n",
        "$$\n",
        "X = \\begin{array}\\\n",
        "        6\\hat{x} + 3\\hat{y} \\\\ \n",
        "    \\end{array}\n",
        "$$\n",
        "$$\n",
        "Y = \\begin{array}\\\n",
        "        8\\hat{x} + 17\\hat{y} \\\\ \n",
        "    \\end{array}\n",
        "$$"
      ],
      "metadata": {
        "id": "YPuUxBZhB46v"
      }
    },
    {
      "cell_type": "code",
      "source": [
        "X = np.array([6,3])\n",
        "Y = np.array([8,17])\n",
        "#Y= np.array([-1,-3])\n",
        "\n",
        "Z = np.arange(-17,17,1)\n",
        "\n",
        "A, B = np.meshgrid(Z,Z)\n",
        "                    \n",
        "vectZ = X + Y\n",
        "spanZx = A*X[0] + B*Y[0]\n",
        "spanZy = A*X[1] + B*Y[1]\n",
        "plt.scatter(Z*X[0],Z*Y[1])\n",
        "plt.scatter(Z*X[0],Z*Y[1])\n",
        "plt.scatter(spanZx,spanZy, s=0.5, alpha=0.5)\n",
        "plt.axhline(y=0, color='red')\n",
        "plt.axvline(x=0, color='blue')\n",
        "plt.grid()\n",
        "plt.show()"
      ],
      "metadata": {
        "colab": {
          "base_uri": "https://localhost:8080/",
          "height": 265
        },
        "id": "yDYB5RnmB9cY",
        "outputId": "98c9c078-5a7b-466f-e037-2adf300d07b7"
      },
      "execution_count": 8,
      "outputs": [
        {
          "output_type": "display_data",
          "data": {
            "text/plain": [
              "<Figure size 432x288 with 1 Axes>"
            ],
            "image/png": "[encoded data removed]"
          },
          "metadata": {
            "needs_background": "light"
          }
        }
      ]
    }
  ]
}